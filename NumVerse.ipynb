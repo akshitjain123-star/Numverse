{
 "cells": [
  {
   "cell_type": "code",
   "execution_count": null,
   "id": "a4cb8008-5191-4765-a27f-f01ff396a289",
   "metadata": {},
   "outputs": [],
   "source": [
    "def binary_to_decimal(binary):\n",
    "    return int(binary, 2)\n"
   ]
  },
  {
   "cell_type": "code",
   "execution_count": null,
   "id": "c22c0098-e321-4279-ba58-e09c5743dda7",
   "metadata": {},
   "outputs": [],
   "source": [
    "def decimal_to_binary(decimal):\n",
    "    return bin(decimal)[2:]"
   ]
  },
  {
   "cell_type": "code",
   "execution_count": null,
   "id": "fd90d77b-ea6c-40b9-8262-8f36adc8a962",
   "metadata": {},
   "outputs": [],
   "source": [
    "def octal_to_decimal(octal):\n",
    "    return int(octal, 8)"
   ]
  },
  {
   "cell_type": "code",
   "execution_count": null,
   "id": "413ba529-2929-4f80-a5ce-963c9aaa7e08",
   "metadata": {},
   "outputs": [],
   "source": [
    "def decimal_to_octal(decimal):\n",
    "    return oct(decimal)[2:]"
   ]
  },
  {
   "cell_type": "code",
   "execution_count": null,
   "id": "798b79f0-24a6-4637-a5fe-ec0fd7136a37",
   "metadata": {},
   "outputs": [],
   "source": [
    "def hex_to_decimal(hexadecimal):\n",
    "    return int(hexadecimal, 16)\n"
   ]
  },
  {
   "cell_type": "code",
   "execution_count": null,
   "id": "aa9db9e7-e8ed-4b65-acc6-da7555c8dcad",
   "metadata": {},
   "outputs": [],
   "source": [
    "def decimal_to_hex(decimal):\n",
    "    return hex(decimal)[2:].upper()"
   ]
  },
  {
   "cell_type": "code",
   "execution_count": null,
   "id": "ae83f943-07a8-4770-8796-28ddde8b257c",
   "metadata": {},
   "outputs": [],
   "source": [
    "def convert_number(value, from_system, to_system):\n",
    "    # Convert input to decimal first\n",
    "    if from_system == 'binary':\n",
    "        decimal = binary_to_decimal(value)\n",
    "    elif from_system == 'decimal':\n",
    "        decimal = int(value)\n",
    "    elif from_system == 'octal':\n",
    "        decimal = octal_to_decimal(value)\n",
    "    elif from_system == 'hexadecimal':\n",
    "        decimal = hex_to_decimal(value)\n",
    "    else:\n",
    "        return \"Invalid source system\""
   ]
  },
  {
   "cell_type": "code",
   "execution_count": null,
   "id": "9240a9d8-200b-4f2f-be2b-a7f5a318eb25",
   "metadata": {},
   "outputs": [],
   "source": [
    "    return decimal_to_binary(decimal)\n",
    "    elif to_system == 'decimal':\n",
    "        return str(decimal)\n",
    "    elif to_system == 'octal':\n",
    "        return decimal_to_octal(decimal)\n",
    "    elif to_system == 'hexadecimal':\n",
    "        return decimal_to_hex(decimal)\n",
    "    else:\n",
    "        return \"Invalid target system\"\n"
   ]
  },
  {
   "cell_type": "code",
   "execution_count": null,
   "id": "4d13a2fa-b3f4-4de4-bc14-d942dbc42cc5",
   "metadata": {},
   "outputs": [],
   "source": [
    "def main():\n",
    "    print(\"Welcome to Number System Converter!\")\n",
    "    print(\"Available systems: binary, decimal, octal, hexadecimal\")\n",
    "    \n",
    "    while True:\n",
    "        value = input(\"\\nEnter the number to convert (or 'exit' to quit): \").strip()\n",
    "        if value.lower() == 'exit':\n",
    "            print(\"Goodbye!\")\n",
    "            break"
   ]
  },
  {
   "cell_type": "code",
   "execution_count": null,
   "id": "b3f3e8a2-a645-471a-8019-72fe4d63449f",
   "metadata": {},
   "outputs": [],
   "source": [
    "\n",
    "        from_system = input(\"From (binary/decimal/octal/hexadecimal): \").strip().lower()\n",
    "        to_system = input(\"To (binary/decimal/octal/hexadecimal): \").strip().lower()\n",
    "\n",
    "        try:\n",
    "            result = convert_number(value, from_system, to_system)\n",
    "            print(f\"{value} in {from_system} is {result} in {to_system}\")\n",
    "        except ValueError:\n",
    "            print(\"Invalid number for the chosen system. Try again.\")\n"
   ]
  },
  {
   "cell_type": "code",
   "execution_count": 2,
   "id": "5f8ffe30-6bbc-4c71-bdc4-f39ef2c856b6",
   "metadata": {},
   "outputs": [
    {
     "name": "stdout",
     "output_type": "stream",
     "text": [
      "Welcome to Number System Converter!\n",
      "Available systems: binary, decimal, octal, hexadecimal\n"
     ]
    },
    {
     "name": "stdin",
     "output_type": "stream",
     "text": [
      "\n",
      "Enter the number to convert (or 'exit' to quit):  121\n",
      "From (binary/decimal/octal/hexadecimal):  decimal\n",
      "To (binary/decimal/octal/hexadecimal):  binary\n"
     ]
    },
    {
     "name": "stdout",
     "output_type": "stream",
     "text": [
      "121 in decimal is 1111001 in binary\n"
     ]
    },
    {
     "name": "stdin",
     "output_type": "stream",
     "text": [
      "\n",
      "Enter the number to convert (or 'exit' to quit):  exit\n"
     ]
    },
    {
     "name": "stdout",
     "output_type": "stream",
     "text": [
      "Goodbye!\n"
     ]
    }
   ],
   "source": [
    "if __name__ == \"__main__\":\n",
    "    main()"
   ]
  }
 ],
 "metadata": {
  "kernelspec": {
   "display_name": "Python [conda env:base] *",
   "language": "python",
   "name": "conda-base-py"
  },
  "language_info": {
   "codemirror_mode": {
    "name": "ipython",
    "version": 3
   },
   "file_extension": ".py",
   "mimetype": "text/x-python",
   "name": "python",
   "nbconvert_exporter": "python",
   "pygments_lexer": "ipython3",
   "version": "3.13.5"
  }
 },
 "nbformat": 4,
 "nbformat_minor": 5
}
